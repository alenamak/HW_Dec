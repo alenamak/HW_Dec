{
 "cells": [
  {
   "cell_type": "markdown",
   "metadata": {},
   "source": [
    "# Языковое моделирование"
   ]
  },
  {
   "cell_type": "markdown",
   "metadata": {},
   "source": [
    "Мы будем работать с корпусом шекспировских текстов. Для того, чтобы его скачать, введите:\n",
    "```python\n",
    "!wget http://cs.stanford.edu/people/karpathy/char-rnn/shakespeare_input.txt\n",
    "```\n",
    "\n",
    "**Проделайте следующие упражнения:**\n",
    "1. Разбейте текст на слова.\n",
    "2. Приведите все к нижнему регистру.\n",
    "3. Посчитайте частоты всех слов.\n",
    "4. Замените слова с частотой встречаемости ниже 2 на UNK.\n",
    "5. Создайте словарь, где по ключу _i_ будет лежать словарь с частотами _n_-грамм длины _i_.\n",
    "6. Напишите функцию для оценки вероятностей предложений при помощи данного словаря с использованием сглаживания Лапласа."
   ]
  },
  {
   "cell_type": "markdown",
   "metadata": {},
   "source": [
    "## Генерация случайных текстов (Д/З)"
   ]
  },
  {
   "cell_type": "markdown",
   "metadata": {},
   "source": [
    "Для того, чтобы сгенерировать случайный текст нужно запастись двумя вещами:\n",
    "\n",
    "1. Тренировочный корпус.\n",
    "2. Языковая модель."
   ]
  },
  {
   "cell_type": "markdown",
   "metadata": {},
   "source": [
    "Следуя комментариям напишите класс, реализующий простейшую **побуквенную** языковую модель."
   ]
  },
  {
   "cell_type": "code",
   "execution_count": 14,
   "metadata": {
    "collapsed": true
   },
   "outputs": [],
   "source": [
    "from collections import Counter, defaultdict\n",
    "\n",
    "class LanguageModel:\n",
    "    def __init__(self, data, order=4):\n",
    "        self.order = order\n",
    "        self.ngrams = defaultdict(Counter)\n",
    "        pad = '~' * order\n",
    "        data = pad + data\n",
    "        ### YOUR CODE HERE\n",
    "        # For each ngram in data count all characters following this ngram.\n",
    "        # For instance for oder = 2 and data = 'abcbcb' self.ngrams should be the following:\n",
    "        # self.ngrams['~~']['a'] == 1\n",
    "        # self.ngrams['~a']['b'] == 1\n",
    "        # self.ngrams['ab']['c'] == 1\n",
    "        # self.ngrams['bc']['c'] == 2\n",
    "        # self.ngrams['cb']['c'] == 1\n",
    "        for i in range(len(data) - order):\n",
    "            history = data[i:i + order]\n",
    "            self.ngrams[history][data[i + order]] += 1\n",
    "        ### END YOUR CODE\n",
    "        self.lm = {history: self.normalize(chars) for history, chars in self.ngrams.items()}\n",
    "    \n",
    "    def normalize(self, counter):\n",
    "        ### YOUR CODE HERE\n",
    "        # Normalize entries of counter.\n",
    "        # For instance if you have Counter('a', 'b', 'a', 'a')\n",
    "        # you should return the following list:\n",
    "        # [('a', 0.75), ('b', 0.25)]\n",
    "        norm = []\n",
    "        summ = sum(counter.values())\n",
    "        for i in counter.items():\n",
    "            norm.append([i[0], i[1]/summ])\n",
    "        return norm\n",
    "        ### END YOUR CODE\n",
    "    \n",
    "    def __getitem__(self, history):\n",
    "        return self.lm[history]"
   ]
  },
  {
   "cell_type": "markdown",
   "metadata": {},
   "source": [
    "Что-ж, пришло время обучить языковую модельку и проверить результаты."
   ]
  },
  {
   "cell_type": "code",
   "execution_count": 15,
   "metadata": {
    "collapsed": false
   },
   "outputs": [],
   "source": [
    "with open('shakespeare_input.txt', 'r') as fin:\n",
    "    lm = LanguageModel(fin.read())"
   ]
  },
  {
   "cell_type": "code",
   "execution_count": 16,
   "metadata": {
    "collapsed": false
   },
   "outputs": [
    {
     "data": {
      "text/plain": [
       "[['w', 0.817717206132879],\n",
       " [\"'\", 0.017035775127768313],\n",
       " [',', 0.027257240204429302],\n",
       " [' ', 0.013628620102214651],\n",
       " ['u', 0.03747870528109029],\n",
       " ['?', 0.0068143100511073255],\n",
       " ['n', 0.0017035775127768314],\n",
       " [':', 0.005110732538330494],\n",
       " ['r', 0.059625212947189095],\n",
       " ['!', 0.0068143100511073255],\n",
       " ['.', 0.0068143100511073255]]"
      ]
     },
     "execution_count": 16,
     "metadata": {},
     "output_type": "execute_result"
    }
   ],
   "source": [
    "lm['ello']"
   ]
  },
  {
   "cell_type": "code",
   "execution_count": 17,
   "metadata": {
    "collapsed": false
   },
   "outputs": [
    {
     "data": {
      "text/plain": [
       "[['t', 1.0]]"
      ]
     },
     "execution_count": 17,
     "metadata": {},
     "output_type": "execute_result"
    }
   ],
   "source": [
    "lm['Firs']"
   ]
  },
  {
   "cell_type": "markdown",
   "metadata": {},
   "source": [
    "А теперь напишем функцию для генерации случайных текстов!"
   ]
  },
  {
   "cell_type": "code",
   "execution_count": 18,
   "metadata": {
    "collapsed": true
   },
   "outputs": [],
   "source": [
    "from numpy.random import choice\n",
    "\n",
    "def generate_letter(lm, history):\n",
    "    history = history[-lm.order:]\n",
    "    ### YOUR CODE HERE\n",
    "    # Generate the next character according to the history.\n",
    "    # Don't forget to use your probabilities!\n",
    "    # Sample the next letter according to your probability distribution.\n",
    "    mass = []\n",
    "    prob = []\n",
    "    letters = lm[history]\n",
    "    for i in letters:\n",
    "        mass.append(i[0])\n",
    "        prob.append(i[1])\n",
    "    n = choice(mass, 1, p=prob)\n",
    "    return n[0]\n",
    "    ### END YOUR CODE\n",
    "        \n",
    "def generate_text(lm, n_letters=1000):\n",
    "    history = '~' * lm.order\n",
    "    out = []\n",
    "    ### YOUR CODE HERE\n",
    "    # Generate random text and stash it into out variable.\n",
    "    n = 0\n",
    "    for i in range(n_letters):\n",
    "        letter = generate_letter(lm, history)\n",
    "        history = history[1:] + letter\n",
    "        out.append(letter)\n",
    "    ### END YOUR CODE\n",
    "    return ''.join(out)"
   ]
  },
  {
   "cell_type": "code",
   "execution_count": 19,
   "metadata": {
    "collapsed": false,
    "scrolled": true
   },
   "outputs": [
    {
     "name": "stdout",
     "output_type": "stream",
     "text": [
      "First? it not.\n",
      "\n",
      "TITUS ANDRONICUS:\n",
      "Shall I fear the night you that I countrymen by your kindness.\n",
      "\n",
      "ROSENCRANTZ:\n",
      "We are now! whose winds to my beares I have the France Bassio is to see hair: take his very weakes meet\n",
      "And can ready; with thee, wherefore,\n",
      "That's sick and worship in here, trust at Richarge.\n",
      "\n",
      "HORATIAN:\n",
      "Now farth?\n",
      "\n",
      "APEMANTUS:\n",
      "For spherd were you,\n",
      "And your to our of dear me, Signior Hercules,\n",
      "Fully villain;\n",
      "Am not so bid and prite loved close ignoming hell\n",
      "And she can made that othersed.\n",
      "Stirring Talbot sound a many thin meets.\n",
      "You hoistem to more cavilion miscarceness will I heaving to save and that way\n",
      "We that is: finds tongue of this language?\n",
      "\n",
      "EMILIA:\n",
      "O, steward.\n",
      "\n",
      "Second constructed a those\n",
      "Whithee\n",
      "that arranteth must neither, well.\n",
      "\n",
      "KATHARINE:\n",
      "Do famills:\n",
      "How shalt study, and thing varleman: first in English to a limb stews, which evenied old my mother sword's her,\n",
      "So soul! see were in arms,\n",
      "With ready are both York. What, did lease.\n",
      "Where as coward to it will country\n",
      "The\n"
     ]
    }
   ],
   "source": [
    "with open('shakespeare_input.txt', 'r') as fin:\n",
    "    lm = LanguageModel(fin.read())\n",
    "    \n",
    "print(generate_text(lm, 1000))"
   ]
  },
  {
   "cell_type": "code",
   "execution_count": 20,
   "metadata": {
    "collapsed": false,
    "scrolled": true
   },
   "outputs": [
    {
     "name": "stdout",
     "output_type": "stream",
     "text": [
      "First Citizen:\n",
      "Before them. Provide this man's invention and me! for even here, but it was\n",
      "Jove's case. From a pound shall commands he?\n",
      "\n",
      "PAGE:\n",
      "Well, good night, when he's not for the\n",
      "lanthorn doth thy\n",
      "husband says, is muddied,\n",
      "This would revive the lottery of you, and lie under the babbling goss and hear him, we respect, my gracious liege, mine honours me,\n",
      "But he that gave Amamon the\n",
      "basket again?\n",
      "\n",
      "GHOST:\n",
      "Thy evil spirits.\n",
      "Never did deny nothing wicked sir, halfpenny farthingale? didst\n",
      "not see me here,\n",
      "I ask you.\n",
      "\n",
      "MENENIUS:\n",
      "A noble duke is a\n",
      "prave man!\n",
      "\n",
      "TALBOT:\n",
      "What need she, but I do not quantity of certain; and I said 'Good morrows to make\n",
      "What cannot overboard, not perceive you long sojourn till now ripe in fortune's annual feast him like,\n",
      "To fall into a man. I speak no more sons to\n",
      "younger brother.\n",
      "\n",
      "CORIOLANUS:\n",
      "I have wish'd thee.\n",
      "\n",
      "Tailor:\n",
      "But seeming\n",
      "He acts thy wife. Youth in us\n",
      "At whose nature shall be a wall to expect.\n",
      "\n",
      "Lord:\n",
      "Hence from Venice,\n",
      "And to what end?\n",
      "Who dare scarcely beauty dies here in arms,\n",
      "The purity and seek not to ask it you have burnt that I should we were like the crime with rage and bone\n",
      "Can truly as a night\n",
      "Did all the world I ne'er had known to nobleness of my wrath, say so;\n",
      "For let our best eyes can wound, and I will do't, I feel a little kingdom lost? what is too much fair order when\n",
      "youth will ours: and indeed threat us,\n",
      "Play judge:\n",
      "Let Somerset and Monmouth:\n",
      "But when you pleasest not, till I am sorry?\n",
      "So children of the spring from him, not from ancestors;\n",
      "Which, wash'd that said he cares not. But, my lord, I'll pluck a flower.\n",
      "\n",
      "LADY ANNE:\n",
      "Well, then, my queen, to call them pillars: In one voluptuousness:\n",
      "but, as the coronation: if he be not here;\n",
      "For oaths that earthlier happy when they hear you born?\n",
      "And what you did like.\n",
      "One must dote on me.\n",
      "I am the state of the enclosed with the least cause I know nothing but songs of\n",
      "Apollo. You that bears not only with a club, dash out. Go, take heed of Trojans; and that second Groom:\n",
      "More, \n"
     ]
    }
   ],
   "source": [
    "with open('shakespeare_input.txt', 'r') as fin:\n",
    "    lm = LanguageModel(fin.read(), 8)\n",
    "    \n",
    "print(generate_text(lm, 2000))"
   ]
  },
  {
   "cell_type": "code",
   "execution_count": 21,
   "metadata": {
    "collapsed": false,
    "scrolled": true
   },
   "outputs": [
    {
     "name": "stdout",
     "output_type": "stream",
     "text": [
      "First Citizen:\n",
      "Before the time be out? no more!\n",
      "\n",
      "ARIEL:\n",
      "I prithee,\n",
      "Remember I have done thee stir\n",
      "Afresh within me, and these thy sons,\n",
      "Thy kinsman and thy friends, I'll have more lives\n",
      "Than drops of blood were in my father's signet in my purse,\n",
      "Which was the model of thy father's life.\n",
      "\n",
      "MARCUS ANDRONICUS:\n",
      "Long have I been forlorn, and all for thee:\n",
      "Welcome, dread Fury, to my woful house:\n",
      "Rapine and Murder there.\n",
      "\n",
      "TAMORA:\n",
      "These are my ministers, and come with me.\n",
      "\n",
      "TITUS ANDRONICUS:\n",
      "Patience, dear niece. Good Titus, dry thine eyes.\n",
      "\n",
      "TITUS ANDRONICUS:\n",
      "What means my niece Lavinia by these signs?\n",
      "\n",
      "TITUS ANDRONICUS:\n",
      "I know thou dost but sigh\n",
      "That thou no more shalt see this knack, as never\n",
      "I mean thou shalt, we'll bar thee from succession;\n",
      "Not hold thee of our blood, no, not our kin,\n",
      "Far than Deucalion off: mark thou my words:\n",
      "Follow us to the court. Thou churl, for this time,\n",
      "Though full of our displeasure pieced,\n",
      "And nothing more, may fitly like your grace\n",
      "To let my tongue excuse all. What was purposed\n",
      "Concerning his imprisonment, to be taken\n",
      "with a wench.\n",
      "\n",
      "COSTARD:\n",
      "I was taken with none, sir: I was taken with a maid.\n",
      "\n",
      "FERDINAND:\n",
      "Teach us, sweet madam, for our rude transgression\n",
      "Some fair excuse.\n",
      "\n",
      "PRINCESS:\n",
      "The conqueror is dismay'd. Proceed, good Alexander.\n",
      "\n",
      "SIR NATHANIEL:\n",
      "Where will you find men worthy enough to present them?\n",
      "\n",
      "HOLOFERNES:\n",
      "Judas I am,--\n",
      "\n",
      "DUMAIN:\n",
      "The Great.\n",
      "\n",
      "COSTARD:\n",
      "It is, 'Great,' sir:--\n",
      "Pompey surnamed the Great;\n",
      "That oft in field, with targe and shield, did make\n",
      "my foe to sweat:\n",
      "And travelling along this coast, I here am come by chance,\n",
      "And lay my arms before the legs of this sweet lass of France,\n",
      "If your ladyship would say, 'Thanks, Pompey,' I had done.\n",
      "\n",
      "PRINCESS:\n",
      "Great thanks, great Pompey.\n",
      "\n",
      "COSTARD:\n",
      "'Tis not so much worth; but I hope I was perfect: I\n",
      "made a little fault:\n",
      "Marry, 'tis not monstrous in you, neither wish I\n",
      "You take much pains to mend.\n",
      "\n",
      "Both:\n",
      "Beseech your highness saw this many a day?\n",
      "\n",
      "HAMLET:\n",
      "I humbly thank you:\n",
      "Commend me to my lov\n"
     ]
    }
   ],
   "source": [
    "with open('shakespeare_input.txt', 'r') as fin:\n",
    "    lm = LanguageModel(fin.read(), 16)\n",
    "    \n",
    "print(generate_text(lm, 2000))"
   ]
  },
  {
   "cell_type": "code",
   "execution_count": null,
   "metadata": {
    "collapsed": true
   },
   "outputs": [],
   "source": []
  }
 ],
 "metadata": {
  "anaconda-cloud": {},
  "kernelspec": {
   "display_name": "Python [default]",
   "language": "python",
   "name": "python3"
  },
  "language_info": {
   "codemirror_mode": {
    "name": "ipython",
    "version": 3
   },
   "file_extension": ".py",
   "mimetype": "text/x-python",
   "name": "python",
   "nbconvert_exporter": "python",
   "pygments_lexer": "ipython3",
   "version": "3.5.2"
  }
 },
 "nbformat": 4,
 "nbformat_minor": 0
}
